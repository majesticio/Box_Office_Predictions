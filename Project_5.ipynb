{
  "nbformat": 4,
  "nbformat_minor": 0,
  "metadata": {
    "colab": {
      "name": "Project_5.ipynb",
      "provenance": [],
      "collapsed_sections": [
        "UflsC6A3D_LI",
        "tMbVYVFhEGKQ",
        "BhbqKMqvE4ZR"
      ],
      "toc_visible": true,
      "mount_file_id": "1ZB3INBcquhev5gAncL_djI7ihk4mPHj4",
      "authorship_tag": "ABX9TyNz84omixcN0J6YNHnQw9D7",
      "include_colab_link": true
    },
    "kernelspec": {
      "name": "python3",
      "display_name": "Python 3"
    }
  },
  "cells": [
    {
      "cell_type": "markdown",
      "metadata": {
        "id": "view-in-github",
        "colab_type": "text"
      },
      "source": [
        "<a href=\"https://colab.research.google.com/github/majesticio/Box_Office_Predictions/blob/master/Project_5.ipynb\" target=\"_parent\"><img src=\"https://colab.research.google.com/assets/colab-badge.svg\" alt=\"Open In Colab\"/></a>"
      ]
    },
    {
      "cell_type": "markdown",
      "metadata": {
        "id": "7ZJljHHL-529",
        "colab_type": "text"
      },
      "source": [
        "#Big Query\n",
        "\n",
        "*Using SQL to investigate big data*\n",
        "\n",
        "---\n",
        "by **Gabriel Fosse**"
      ]
    },
    {
      "cell_type": "markdown",
      "metadata": {
        "id": "g9XXZ4GfT1n_",
        "colab_type": "text"
      },
      "source": [
        "##Problem Definition\n",
        "What can we find out about Hacker News using SQL and Big Query?\n",
        "\n",
        "\n",
        "*   What information is within this data?\n",
        "*   How many unique authors are there?\n",
        "*   How many articles does does this database have?\n",
        "*   How many records are there?\n",
        "*   How many article titles start with 'D' and end with an 's'?\n",
        "*   How many titles start with a 'T' or a 'G'\n",
        "*   Show authors in alphabetical order\n"
      ]
    },
    {
      "cell_type": "markdown",
      "metadata": {
        "id": "JPi5nSWZ_mCv",
        "colab_type": "text"
      },
      "source": [
        "##Import Libraries"
      ]
    },
    {
      "cell_type": "code",
      "metadata": {
        "id": "Fd51nkcz_i6l",
        "colab_type": "code",
        "colab": {}
      },
      "source": [
        "from google.cloud import bigquery\n",
        "import pandas as pd\n",
        "import numpy as np\n",
        "import re\n",
        "import datetime\n",
        "import matplotlib.pyplot as plt\n",
        "import plotly.express as px\n"
      ],
      "execution_count": 83,
      "outputs": []
    },
    {
      "cell_type": "markdown",
      "metadata": {
        "id": "qhYNgHVwBDAu",
        "colab_type": "text"
      },
      "source": [
        "##Authenticate credentials and project ID"
      ]
    },
    {
      "cell_type": "markdown",
      "metadata": {
        "id": "XElwy6kDBYNr",
        "colab_type": "text"
      },
      "source": [
        "Enter your project ID from GCP"
      ]
    },
    {
      "cell_type": "code",
      "metadata": {
        "id": "IXHnSMPLBNhx",
        "colab_type": "code",
        "colab": {}
      },
      "source": [
        "project_id = 'chainlink-285504'"
      ],
      "execution_count": 84,
      "outputs": []
    },
    {
      "cell_type": "markdown",
      "metadata": {
        "id": "6tlvHgycBfwJ",
        "colab_type": "text"
      },
      "source": [
        "Provide credentials"
      ]
    },
    {
      "cell_type": "code",
      "metadata": {
        "id": "COLnBKJHBRCt",
        "colab_type": "code",
        "colab": {
          "base_uri": "https://localhost:8080/",
          "height": 35
        },
        "outputId": "21a78f89-f3c3-45f5-d59e-bcbaf1dc79fe"
      },
      "source": [
        "from google.colab import auth\n",
        "auth.authenticate_user()\n",
        "print('Authenticated')"
      ],
      "execution_count": 85,
      "outputs": [
        {
          "output_type": "stream",
          "text": [
            "Authenticated\n"
          ],
          "name": "stdout"
        }
      ]
    },
    {
      "cell_type": "markdown",
      "metadata": {
        "id": "4sW8gPgXCAw1",
        "colab_type": "text"
      },
      "source": [
        "###Client object"
      ]
    },
    {
      "cell_type": "markdown",
      "metadata": {
        "id": "u6JwUVr4CIWy",
        "colab_type": "text"
      },
      "source": [
        "Create a Client object"
      ]
    },
    {
      "cell_type": "code",
      "metadata": {
        "id": "3GcRxHfvCDZw",
        "colab_type": "code",
        "colab": {}
      },
      "source": [
        "client = bigquery.Client(project=project_id)"
      ],
      "execution_count": 86,
      "outputs": []
    },
    {
      "cell_type": "markdown",
      "metadata": {
        "id": "77F2gnUXSee0",
        "colab_type": "text"
      },
      "source": [
        "##Data Collection"
      ]
    },
    {
      "cell_type": "markdown",
      "metadata": {
        "id": "Wdftrxrj7gdP",
        "colab_type": "text"
      },
      "source": [
        "Retrieve our data => hacker_news\n",
        "\n",
        "project => bigquery-public-data"
      ]
    },
    {
      "cell_type": "code",
      "metadata": {
        "id": "tkDWja1hSSM3",
        "colab_type": "code",
        "colab": {
          "base_uri": "https://localhost:8080/",
          "height": 35
        },
        "outputId": "12ebe99c-ec02-4b9d-e156-b19edf24bc89"
      },
      "source": [
        "dataset_ref = client.dataset('hacker_news', project = 'bigquery-public-data')\n",
        "dataset = client.get_dataset(dataset_ref)\n",
        "\n",
        "#get the tables\n",
        "tables = list(client.list_tables(dataset))\n",
        "\n",
        "#print table name\n",
        "print([table.table_id for table in tables])\n"
      ],
      "execution_count": 87,
      "outputs": [
        {
          "output_type": "stream",
          "text": [
            "['comments', 'full', 'full_201510', 'stories']\n"
          ],
          "name": "stdout"
        }
      ]
    },
    {
      "cell_type": "markdown",
      "metadata": {
        "id": "W9sSvWzt8Mdg",
        "colab_type": "text"
      },
      "source": [
        "Above shows column names from our dataset."
      ]
    },
    {
      "cell_type": "markdown",
      "metadata": {
        "id": "90LW7sNMS8yx",
        "colab_type": "text"
      },
      "source": [
        "##Explore Tables"
      ]
    },
    {
      "cell_type": "markdown",
      "metadata": {
        "id": "mEyY88YI9aNv",
        "colab_type": "text"
      },
      "source": [
        "Lets investigate the 'stories' column"
      ]
    },
    {
      "cell_type": "code",
      "metadata": {
        "id": "jWQsfp12TBPc",
        "colab_type": "code",
        "colab": {
          "base_uri": "https://localhost:8080/",
          "height": 237
        },
        "outputId": "37de1966-ab41-4959-ca41-f69f074c6ed1"
      },
      "source": [
        "table_ref = dataset.table('stories')\n",
        "table = client.get_table(table_ref)\n",
        "\n",
        "table.schema"
      ],
      "execution_count": 88,
      "outputs": [
        {
          "output_type": "execute_result",
          "data": {
            "text/plain": [
              "[SchemaField('id', 'INTEGER', 'NULLABLE', 'Unique story ID', ()),\n",
              " SchemaField('by', 'STRING', 'NULLABLE', 'Username of submitter', ()),\n",
              " SchemaField('score', 'INTEGER', 'NULLABLE', 'Story score', ()),\n",
              " SchemaField('time', 'INTEGER', 'NULLABLE', 'Unix time', ()),\n",
              " SchemaField('time_ts', 'TIMESTAMP', 'NULLABLE', 'Human readable time in UTC (format: YYYY-MM-DD hh:mm:ss)', ()),\n",
              " SchemaField('title', 'STRING', 'NULLABLE', 'Story title', ()),\n",
              " SchemaField('url', 'STRING', 'NULLABLE', 'Story url', ()),\n",
              " SchemaField('text', 'STRING', 'NULLABLE', 'Story text', ()),\n",
              " SchemaField('deleted', 'BOOLEAN', 'NULLABLE', 'Is deleted?', ()),\n",
              " SchemaField('dead', 'BOOLEAN', 'NULLABLE', 'Is dead?', ()),\n",
              " SchemaField('descendants', 'INTEGER', 'NULLABLE', 'Number of story descendants', ()),\n",
              " SchemaField('author', 'STRING', 'NULLABLE', 'Username of author', ())]"
            ]
          },
          "metadata": {
            "tags": []
          },
          "execution_count": 88
        }
      ]
    },
    {
      "cell_type": "markdown",
      "metadata": {
        "id": "0GV_G7xQ81PP",
        "colab_type": "text"
      },
      "source": [
        "Above are characteristics of the 'stories' feature"
      ]
    },
    {
      "cell_type": "code",
      "metadata": {
        "id": "AFQOscXeTJqc",
        "colab_type": "code",
        "colab": {
          "base_uri": "https://localhost:8080/",
          "height": 293
        },
        "outputId": "a1c9cb80-88e4-4417-9d84-881859a5a52b"
      },
      "source": [
        "client.list_rows(table, max_results=5).to_dataframe()"
      ],
      "execution_count": 89,
      "outputs": [
        {
          "output_type": "execute_result",
          "data": {
            "text/html": [
              "<div>\n",
              "<style scoped>\n",
              "    .dataframe tbody tr th:only-of-type {\n",
              "        vertical-align: middle;\n",
              "    }\n",
              "\n",
              "    .dataframe tbody tr th {\n",
              "        vertical-align: top;\n",
              "    }\n",
              "\n",
              "    .dataframe thead th {\n",
              "        text-align: right;\n",
              "    }\n",
              "</style>\n",
              "<table border=\"1\" class=\"dataframe\">\n",
              "  <thead>\n",
              "    <tr style=\"text-align: right;\">\n",
              "      <th></th>\n",
              "      <th>id</th>\n",
              "      <th>by</th>\n",
              "      <th>score</th>\n",
              "      <th>time</th>\n",
              "      <th>time_ts</th>\n",
              "      <th>title</th>\n",
              "      <th>url</th>\n",
              "      <th>text</th>\n",
              "      <th>deleted</th>\n",
              "      <th>dead</th>\n",
              "      <th>descendants</th>\n",
              "      <th>author</th>\n",
              "    </tr>\n",
              "  </thead>\n",
              "  <tbody>\n",
              "    <tr>\n",
              "      <th>0</th>\n",
              "      <td>6940813</td>\n",
              "      <td>sarath237</td>\n",
              "      <td>0</td>\n",
              "      <td>1387536270</td>\n",
              "      <td>2013-12-20 10:44:30+00:00</td>\n",
              "      <td>Sheryl Brindo Hot Pics</td>\n",
              "      <td>http://www.youtube.com/watch?v=ym1cyxneB0Y</td>\n",
              "      <td>Sheryl Brindo Hot Pics</td>\n",
              "      <td>None</td>\n",
              "      <td>True</td>\n",
              "      <td>NaN</td>\n",
              "      <td>sarath237</td>\n",
              "    </tr>\n",
              "    <tr>\n",
              "      <th>1</th>\n",
              "      <td>6991401</td>\n",
              "      <td>123123321321</td>\n",
              "      <td>0</td>\n",
              "      <td>1388508751</td>\n",
              "      <td>2013-12-31 16:52:31+00:00</td>\n",
              "      <td>Are you people also put off by the culture of ...</td>\n",
              "      <td></td>\n",
              "      <td>They&amp;#x27;re pretty explicitly &amp;#x27;startup f...</td>\n",
              "      <td>None</td>\n",
              "      <td>True</td>\n",
              "      <td>NaN</td>\n",
              "      <td>123123321321</td>\n",
              "    </tr>\n",
              "    <tr>\n",
              "      <th>2</th>\n",
              "      <td>1531556</td>\n",
              "      <td>ssn</td>\n",
              "      <td>0</td>\n",
              "      <td>1279617234</td>\n",
              "      <td>2010-07-20 09:13:54+00:00</td>\n",
              "      <td>New UI for Google Image Search</td>\n",
              "      <td>http://googlesystem.blogspot.com/2010/07/googl...</td>\n",
              "      <td>Again following on Bing's lead.</td>\n",
              "      <td>None</td>\n",
              "      <td>None</td>\n",
              "      <td>0.0</td>\n",
              "      <td>ssn</td>\n",
              "    </tr>\n",
              "    <tr>\n",
              "      <th>3</th>\n",
              "      <td>5012398</td>\n",
              "      <td>hoju</td>\n",
              "      <td>0</td>\n",
              "      <td>1357387877</td>\n",
              "      <td>2013-01-05 12:11:17+00:00</td>\n",
              "      <td>Historic website screenshots</td>\n",
              "      <td>http://webscraping.com/blog/Generate-website-s...</td>\n",
              "      <td>Python script to generate historic screenshots...</td>\n",
              "      <td>None</td>\n",
              "      <td>None</td>\n",
              "      <td>0.0</td>\n",
              "      <td>hoju</td>\n",
              "    </tr>\n",
              "    <tr>\n",
              "      <th>4</th>\n",
              "      <td>7214182</td>\n",
              "      <td>kogir</td>\n",
              "      <td>0</td>\n",
              "      <td>1401561740</td>\n",
              "      <td>2014-05-31 18:42:20+00:00</td>\n",
              "      <td>Placeholder</td>\n",
              "      <td></td>\n",
              "      <td>Mind the gap.</td>\n",
              "      <td>None</td>\n",
              "      <td>None</td>\n",
              "      <td>0.0</td>\n",
              "      <td>kogir</td>\n",
              "    </tr>\n",
              "  </tbody>\n",
              "</table>\n",
              "</div>"
            ],
            "text/plain": [
              "        id            by  score  ...  dead descendants        author\n",
              "0  6940813     sarath237      0  ...  True         NaN     sarath237\n",
              "1  6991401  123123321321      0  ...  True         NaN  123123321321\n",
              "2  1531556           ssn      0  ...  None         0.0           ssn\n",
              "3  5012398          hoju      0  ...  None         0.0          hoju\n",
              "4  7214182         kogir      0  ...  None         0.0         kogir\n",
              "\n",
              "[5 rows x 12 columns]"
            ]
          },
          "metadata": {
            "tags": []
          },
          "execution_count": 89
        }
      ]
    },
    {
      "cell_type": "markdown",
      "metadata": {
        "id": "G8xn6zjs_UzV",
        "colab_type": "text"
      },
      "source": [
        "We can see the attributes from 'stories' have been broken out into their own features in the table above"
      ]
    },
    {
      "cell_type": "code",
      "metadata": {
        "id": "vt3ybchCTUD3",
        "colab_type": "code",
        "colab": {
          "base_uri": "https://localhost:8080/",
          "height": 35
        },
        "outputId": "99d500ac-8e3c-4062-99aa-062863fcc14c"
      },
      "source": [
        "type(client)"
      ],
      "execution_count": 90,
      "outputs": [
        {
          "output_type": "execute_result",
          "data": {
            "text/plain": [
              "google.cloud.bigquery.client.Client"
            ]
          },
          "metadata": {
            "tags": []
          },
          "execution_count": 90
        }
      ]
    },
    {
      "cell_type": "markdown",
      "metadata": {
        "id": "lbHsos9cA8TL",
        "colab_type": "text"
      },
      "source": [
        "##What's in this data?\n"
      ]
    },
    {
      "cell_type": "markdown",
      "metadata": {
        "id": "ORqAjuqrBwmQ",
        "colab_type": "text"
      },
      "source": [
        "Explore the different tables..."
      ]
    },
    {
      "cell_type": "markdown",
      "metadata": {
        "id": "gPx3wDDXD62n",
        "colab_type": "text"
      },
      "source": [
        "###Stories"
      ]
    },
    {
      "cell_type": "markdown",
      "metadata": {
        "id": "h4XplvRKDV_P",
        "colab_type": "text"
      },
      "source": [
        "Data from the stories table"
      ]
    },
    {
      "cell_type": "code",
      "metadata": {
        "id": "vTfmodD1AGc9",
        "colab_type": "code",
        "colab": {
          "base_uri": "https://localhost:8080/",
          "height": 206
        },
        "outputId": "3aa7a271-e42f-40de-825f-acf64ad74f46"
      },
      "source": [
        "query = \"\"\"\n",
        "        SELECT *\n",
        "        FROM `bigquery-public-data.hacker_news.stories`\n",
        "        LIMIT 5\n",
        "        \"\"\"\n",
        "df = client.query(query).to_dataframe()\n",
        "df.head(5)"
      ],
      "execution_count": 91,
      "outputs": [
        {
          "output_type": "execute_result",
          "data": {
            "text/html": [
              "<div>\n",
              "<style scoped>\n",
              "    .dataframe tbody tr th:only-of-type {\n",
              "        vertical-align: middle;\n",
              "    }\n",
              "\n",
              "    .dataframe tbody tr th {\n",
              "        vertical-align: top;\n",
              "    }\n",
              "\n",
              "    .dataframe thead th {\n",
              "        text-align: right;\n",
              "    }\n",
              "</style>\n",
              "<table border=\"1\" class=\"dataframe\">\n",
              "  <thead>\n",
              "    <tr style=\"text-align: right;\">\n",
              "      <th></th>\n",
              "      <th>id</th>\n",
              "      <th>by</th>\n",
              "      <th>score</th>\n",
              "      <th>time</th>\n",
              "      <th>time_ts</th>\n",
              "      <th>title</th>\n",
              "      <th>url</th>\n",
              "      <th>text</th>\n",
              "      <th>deleted</th>\n",
              "      <th>dead</th>\n",
              "      <th>descendants</th>\n",
              "      <th>author</th>\n",
              "    </tr>\n",
              "  </thead>\n",
              "  <tbody>\n",
              "    <tr>\n",
              "      <th>0</th>\n",
              "      <td>6616287</td>\n",
              "      <td>None</td>\n",
              "      <td>None</td>\n",
              "      <td>1382760285</td>\n",
              "      <td>2013-10-26 04:04:45+00:00</td>\n",
              "      <td>None</td>\n",
              "      <td>None</td>\n",
              "      <td>None</td>\n",
              "      <td>True</td>\n",
              "      <td>None</td>\n",
              "      <td>None</td>\n",
              "      <td>None</td>\n",
              "    </tr>\n",
              "    <tr>\n",
              "      <th>1</th>\n",
              "      <td>8387564</td>\n",
              "      <td>None</td>\n",
              "      <td>None</td>\n",
              "      <td>1412074988</td>\n",
              "      <td>2014-09-30 11:03:08+00:00</td>\n",
              "      <td>None</td>\n",
              "      <td>None</td>\n",
              "      <td>None</td>\n",
              "      <td>True</td>\n",
              "      <td>None</td>\n",
              "      <td>None</td>\n",
              "      <td>None</td>\n",
              "    </tr>\n",
              "    <tr>\n",
              "      <th>2</th>\n",
              "      <td>5500207</td>\n",
              "      <td>None</td>\n",
              "      <td>None</td>\n",
              "      <td>1365187157</td>\n",
              "      <td>2013-04-05 18:39:17+00:00</td>\n",
              "      <td>None</td>\n",
              "      <td>None</td>\n",
              "      <td>None</td>\n",
              "      <td>True</td>\n",
              "      <td>None</td>\n",
              "      <td>None</td>\n",
              "      <td>None</td>\n",
              "    </tr>\n",
              "    <tr>\n",
              "      <th>3</th>\n",
              "      <td>6025822</td>\n",
              "      <td>None</td>\n",
              "      <td>None</td>\n",
              "      <td>1373548676</td>\n",
              "      <td>2013-07-11 13:17:56+00:00</td>\n",
              "      <td>None</td>\n",
              "      <td>None</td>\n",
              "      <td>None</td>\n",
              "      <td>True</td>\n",
              "      <td>None</td>\n",
              "      <td>None</td>\n",
              "      <td>None</td>\n",
              "    </tr>\n",
              "    <tr>\n",
              "      <th>4</th>\n",
              "      <td>5371837</td>\n",
              "      <td>None</td>\n",
              "      <td>None</td>\n",
              "      <td>1363217360</td>\n",
              "      <td>2013-03-13 23:29:20+00:00</td>\n",
              "      <td>None</td>\n",
              "      <td>None</td>\n",
              "      <td>None</td>\n",
              "      <td>True</td>\n",
              "      <td>None</td>\n",
              "      <td>None</td>\n",
              "      <td>None</td>\n",
              "    </tr>\n",
              "  </tbody>\n",
              "</table>\n",
              "</div>"
            ],
            "text/plain": [
              "        id    by score        time  ... deleted  dead descendants author\n",
              "0  6616287  None  None  1382760285  ...    True  None        None   None\n",
              "1  8387564  None  None  1412074988  ...    True  None        None   None\n",
              "2  5500207  None  None  1365187157  ...    True  None        None   None\n",
              "3  6025822  None  None  1373548676  ...    True  None        None   None\n",
              "4  5371837  None  None  1363217360  ...    True  None        None   None\n",
              "\n",
              "[5 rows x 12 columns]"
            ]
          },
          "metadata": {
            "tags": []
          },
          "execution_count": 91
        }
      ]
    },
    {
      "cell_type": "markdown",
      "metadata": {
        "id": "0UKCvVKfF-I2",
        "colab_type": "text"
      },
      "source": [
        "That was the first 5. Lets look at the next 5"
      ]
    },
    {
      "cell_type": "code",
      "metadata": {
        "id": "Xv9yirxMF1DL",
        "colab_type": "code",
        "colab": {
          "base_uri": "https://localhost:8080/",
          "height": 206
        },
        "outputId": "3f5da709-9ac5-411d-da98-f68e1a914fd9"
      },
      "source": [
        "query = \"\"\"\n",
        "        SELECT *\n",
        "        FROM `bigquery-public-data.hacker_news.stories`\n",
        "        LIMIT 5 OFFSET 5\n",
        "        \"\"\"\n",
        "df = client.query(query).to_dataframe()\n",
        "df.head(5)"
      ],
      "execution_count": 92,
      "outputs": [
        {
          "output_type": "execute_result",
          "data": {
            "text/html": [
              "<div>\n",
              "<style scoped>\n",
              "    .dataframe tbody tr th:only-of-type {\n",
              "        vertical-align: middle;\n",
              "    }\n",
              "\n",
              "    .dataframe tbody tr th {\n",
              "        vertical-align: top;\n",
              "    }\n",
              "\n",
              "    .dataframe thead th {\n",
              "        text-align: right;\n",
              "    }\n",
              "</style>\n",
              "<table border=\"1\" class=\"dataframe\">\n",
              "  <thead>\n",
              "    <tr style=\"text-align: right;\">\n",
              "      <th></th>\n",
              "      <th>id</th>\n",
              "      <th>by</th>\n",
              "      <th>score</th>\n",
              "      <th>time</th>\n",
              "      <th>time_ts</th>\n",
              "      <th>title</th>\n",
              "      <th>url</th>\n",
              "      <th>text</th>\n",
              "      <th>deleted</th>\n",
              "      <th>dead</th>\n",
              "      <th>descendants</th>\n",
              "      <th>author</th>\n",
              "    </tr>\n",
              "  </thead>\n",
              "  <tbody>\n",
              "    <tr>\n",
              "      <th>0</th>\n",
              "      <td>4689683</td>\n",
              "      <td>kogir</td>\n",
              "      <td>0</td>\n",
              "      <td>1401561740</td>\n",
              "      <td>2014-05-31 18:42:20+00:00</td>\n",
              "      <td>Placeholder</td>\n",
              "      <td></td>\n",
              "      <td>Mind the gap.</td>\n",
              "      <td>None</td>\n",
              "      <td>None</td>\n",
              "      <td>0</td>\n",
              "      <td>kogir</td>\n",
              "    </tr>\n",
              "    <tr>\n",
              "      <th>1</th>\n",
              "      <td>4712731</td>\n",
              "      <td>kogir</td>\n",
              "      <td>0</td>\n",
              "      <td>1401561740</td>\n",
              "      <td>2014-05-31 18:42:20+00:00</td>\n",
              "      <td>Placeholder</td>\n",
              "      <td></td>\n",
              "      <td>Mind the gap.</td>\n",
              "      <td>None</td>\n",
              "      <td>None</td>\n",
              "      <td>0</td>\n",
              "      <td>kogir</td>\n",
              "    </tr>\n",
              "    <tr>\n",
              "      <th>2</th>\n",
              "      <td>3067098</td>\n",
              "      <td>kogir</td>\n",
              "      <td>0</td>\n",
              "      <td>1401561740</td>\n",
              "      <td>2014-05-31 18:42:20+00:00</td>\n",
              "      <td>Placeholder</td>\n",
              "      <td></td>\n",
              "      <td>Mind the gap.</td>\n",
              "      <td>None</td>\n",
              "      <td>None</td>\n",
              "      <td>0</td>\n",
              "      <td>kogir</td>\n",
              "    </tr>\n",
              "    <tr>\n",
              "      <th>3</th>\n",
              "      <td>4724746</td>\n",
              "      <td>kogir</td>\n",
              "      <td>0</td>\n",
              "      <td>1401561740</td>\n",
              "      <td>2014-05-31 18:42:20+00:00</td>\n",
              "      <td>Placeholder</td>\n",
              "      <td></td>\n",
              "      <td>Mind the gap.</td>\n",
              "      <td>None</td>\n",
              "      <td>None</td>\n",
              "      <td>0</td>\n",
              "      <td>kogir</td>\n",
              "    </tr>\n",
              "    <tr>\n",
              "      <th>4</th>\n",
              "      <td>1253117</td>\n",
              "      <td>kogir</td>\n",
              "      <td>0</td>\n",
              "      <td>1401561740</td>\n",
              "      <td>2014-05-31 18:42:20+00:00</td>\n",
              "      <td>Placeholder</td>\n",
              "      <td></td>\n",
              "      <td>Mind the gap.</td>\n",
              "      <td>None</td>\n",
              "      <td>None</td>\n",
              "      <td>0</td>\n",
              "      <td>kogir</td>\n",
              "    </tr>\n",
              "  </tbody>\n",
              "</table>\n",
              "</div>"
            ],
            "text/plain": [
              "        id     by  score        time  ... deleted  dead descendants author\n",
              "0  4689683  kogir      0  1401561740  ...    None  None           0  kogir\n",
              "1  4712731  kogir      0  1401561740  ...    None  None           0  kogir\n",
              "2  3067098  kogir      0  1401561740  ...    None  None           0  kogir\n",
              "3  4724746  kogir      0  1401561740  ...    None  None           0  kogir\n",
              "4  1253117  kogir      0  1401561740  ...    None  None           0  kogir\n",
              "\n",
              "[5 rows x 12 columns]"
            ]
          },
          "metadata": {
            "tags": []
          },
          "execution_count": 92
        }
      ]
    },
    {
      "cell_type": "markdown",
      "metadata": {
        "id": "60yBpu65GzfG",
        "colab_type": "text"
      },
      "source": [
        "Look at just the text, author, and title columns from stories table"
      ]
    },
    {
      "cell_type": "code",
      "metadata": {
        "id": "HvKYm_zhGbvs",
        "colab_type": "code",
        "colab": {
          "base_uri": "https://localhost:8080/",
          "height": 206
        },
        "outputId": "6c1e203c-518b-499d-b6b4-17227dcd856a"
      },
      "source": [
        "query = \"\"\"\n",
        "        SELECT text, author, title\n",
        "        FROM `bigquery-public-data.hacker_news.stories`\n",
        "        LIMIT 5 OFFSET 5\n",
        "        \"\"\"\n",
        "df = client.query(query).to_dataframe()\n",
        "df.head(5)"
      ],
      "execution_count": 93,
      "outputs": [
        {
          "output_type": "execute_result",
          "data": {
            "text/html": [
              "<div>\n",
              "<style scoped>\n",
              "    .dataframe tbody tr th:only-of-type {\n",
              "        vertical-align: middle;\n",
              "    }\n",
              "\n",
              "    .dataframe tbody tr th {\n",
              "        vertical-align: top;\n",
              "    }\n",
              "\n",
              "    .dataframe thead th {\n",
              "        text-align: right;\n",
              "    }\n",
              "</style>\n",
              "<table border=\"1\" class=\"dataframe\">\n",
              "  <thead>\n",
              "    <tr style=\"text-align: right;\">\n",
              "      <th></th>\n",
              "      <th>text</th>\n",
              "      <th>author</th>\n",
              "      <th>title</th>\n",
              "    </tr>\n",
              "  </thead>\n",
              "  <tbody>\n",
              "    <tr>\n",
              "      <th>0</th>\n",
              "      <td>Mind the gap.</td>\n",
              "      <td>kogir</td>\n",
              "      <td>Placeholder</td>\n",
              "    </tr>\n",
              "    <tr>\n",
              "      <th>1</th>\n",
              "      <td>Mind the gap.</td>\n",
              "      <td>kogir</td>\n",
              "      <td>Placeholder</td>\n",
              "    </tr>\n",
              "    <tr>\n",
              "      <th>2</th>\n",
              "      <td>Mind the gap.</td>\n",
              "      <td>kogir</td>\n",
              "      <td>Placeholder</td>\n",
              "    </tr>\n",
              "    <tr>\n",
              "      <th>3</th>\n",
              "      <td>Mind the gap.</td>\n",
              "      <td>kogir</td>\n",
              "      <td>Placeholder</td>\n",
              "    </tr>\n",
              "    <tr>\n",
              "      <th>4</th>\n",
              "      <td>Mind the gap.</td>\n",
              "      <td>kogir</td>\n",
              "      <td>Placeholder</td>\n",
              "    </tr>\n",
              "  </tbody>\n",
              "</table>\n",
              "</div>"
            ],
            "text/plain": [
              "            text author        title\n",
              "0  Mind the gap.  kogir  Placeholder\n",
              "1  Mind the gap.  kogir  Placeholder\n",
              "2  Mind the gap.  kogir  Placeholder\n",
              "3  Mind the gap.  kogir  Placeholder\n",
              "4  Mind the gap.  kogir  Placeholder"
            ]
          },
          "metadata": {
            "tags": []
          },
          "execution_count": 93
        }
      ]
    },
    {
      "cell_type": "markdown",
      "metadata": {
        "id": "UflsC6A3D_LI",
        "colab_type": "text"
      },
      "source": [
        "###Comments"
      ]
    },
    {
      "cell_type": "markdown",
      "metadata": {
        "id": "IiVZ6-eDDidn",
        "colab_type": "text"
      },
      "source": [
        "Data from the comments table"
      ]
    },
    {
      "cell_type": "code",
      "metadata": {
        "id": "72taiGWZCctf",
        "colab_type": "code",
        "colab": {
          "base_uri": "https://localhost:8080/",
          "height": 0
        },
        "outputId": "3f3422ff-ba1a-41ee-c02d-8655988cce50"
      },
      "source": [
        "query = \"\"\"\n",
        "        SELECT *\n",
        "        FROM `bigquery-public-data.hacker_news.comments`\n",
        "        LIMIT 5\n",
        "        \"\"\"\n",
        "df = client.query(query).to_dataframe()\n",
        "df.head(2)"
      ],
      "execution_count": 94,
      "outputs": [
        {
          "output_type": "execute_result",
          "data": {
            "text/html": [
              "<div>\n",
              "<style scoped>\n",
              "    .dataframe tbody tr th:only-of-type {\n",
              "        vertical-align: middle;\n",
              "    }\n",
              "\n",
              "    .dataframe tbody tr th {\n",
              "        vertical-align: top;\n",
              "    }\n",
              "\n",
              "    .dataframe thead th {\n",
              "        text-align: right;\n",
              "    }\n",
              "</style>\n",
              "<table border=\"1\" class=\"dataframe\">\n",
              "  <thead>\n",
              "    <tr style=\"text-align: right;\">\n",
              "      <th></th>\n",
              "      <th>id</th>\n",
              "      <th>by</th>\n",
              "      <th>author</th>\n",
              "      <th>time</th>\n",
              "      <th>time_ts</th>\n",
              "      <th>text</th>\n",
              "      <th>parent</th>\n",
              "      <th>deleted</th>\n",
              "      <th>dead</th>\n",
              "      <th>ranking</th>\n",
              "    </tr>\n",
              "  </thead>\n",
              "  <tbody>\n",
              "    <tr>\n",
              "      <th>0</th>\n",
              "      <td>9462226</td>\n",
              "      <td>13</td>\n",
              "      <td>13</td>\n",
              "      <td>1430346041</td>\n",
              "      <td>2015-04-29 22:20:41+00:00</td>\n",
              "      <td>Then why the hell are you advertising it as &amp;q...</td>\n",
              "      <td>9461692</td>\n",
              "      <td>None</td>\n",
              "      <td>None</td>\n",
              "      <td>0</td>\n",
              "    </tr>\n",
              "    <tr>\n",
              "      <th>1</th>\n",
              "      <td>10020929</td>\n",
              "      <td>13</td>\n",
              "      <td>13</td>\n",
              "      <td>1438921413</td>\n",
              "      <td>2015-08-07 04:23:33+00:00</td>\n",
              "      <td>I think you put far too much trust in one of t...</td>\n",
              "      <td>10020857</td>\n",
              "      <td>None</td>\n",
              "      <td>None</td>\n",
              "      <td>0</td>\n",
              "    </tr>\n",
              "  </tbody>\n",
              "</table>\n",
              "</div>"
            ],
            "text/plain": [
              "         id  by author        time  ...    parent deleted  dead ranking\n",
              "0   9462226  13     13  1430346041  ...   9461692    None  None       0\n",
              "1  10020929  13     13  1438921413  ...  10020857    None  None       0\n",
              "\n",
              "[2 rows x 10 columns]"
            ]
          },
          "metadata": {
            "tags": []
          },
          "execution_count": 94
        }
      ]
    },
    {
      "cell_type": "markdown",
      "metadata": {
        "id": "tMbVYVFhEGKQ",
        "colab_type": "text"
      },
      "source": [
        "###Full"
      ]
    },
    {
      "cell_type": "markdown",
      "metadata": {
        "id": "cxHsZ_6cEKCa",
        "colab_type": "text"
      },
      "source": [
        "Data from the 'full' table"
      ]
    },
    {
      "cell_type": "code",
      "metadata": {
        "id": "pC8OXcTSDwGv",
        "colab_type": "code",
        "colab": {
          "base_uri": "https://localhost:8080/",
          "height": 0
        },
        "outputId": "81c7f93b-fe98-4c93-c4f3-77ae9ad70c70"
      },
      "source": [
        "query = \"\"\"\n",
        "        SELECT *\n",
        "        FROM `bigquery-public-data.hacker_news.full`\n",
        "        LIMIT 5\n",
        "        \"\"\"\n",
        "df = client.query(query).to_dataframe()\n",
        "df.head(2)"
      ],
      "execution_count": 95,
      "outputs": [
        {
          "output_type": "execute_result",
          "data": {
            "text/html": [
              "<div>\n",
              "<style scoped>\n",
              "    .dataframe tbody tr th:only-of-type {\n",
              "        vertical-align: middle;\n",
              "    }\n",
              "\n",
              "    .dataframe tbody tr th {\n",
              "        vertical-align: top;\n",
              "    }\n",
              "\n",
              "    .dataframe thead th {\n",
              "        text-align: right;\n",
              "    }\n",
              "</style>\n",
              "<table border=\"1\" class=\"dataframe\">\n",
              "  <thead>\n",
              "    <tr style=\"text-align: right;\">\n",
              "      <th></th>\n",
              "      <th>title</th>\n",
              "      <th>url</th>\n",
              "      <th>text</th>\n",
              "      <th>dead</th>\n",
              "      <th>by</th>\n",
              "      <th>score</th>\n",
              "      <th>time</th>\n",
              "      <th>timestamp</th>\n",
              "      <th>type</th>\n",
              "      <th>id</th>\n",
              "      <th>parent</th>\n",
              "      <th>descendants</th>\n",
              "      <th>ranking</th>\n",
              "      <th>deleted</th>\n",
              "    </tr>\n",
              "  </thead>\n",
              "  <tbody>\n",
              "    <tr>\n",
              "      <th>0</th>\n",
              "      <td>None</td>\n",
              "      <td>None</td>\n",
              "      <td>Kill-switch to me sounds like something presse...</td>\n",
              "      <td>None</td>\n",
              "      <td>happywolf</td>\n",
              "      <td>NaN</td>\n",
              "      <td>1443194129</td>\n",
              "      <td>2015-09-25 15:15:29+00:00</td>\n",
              "      <td>comment</td>\n",
              "      <td>10278617</td>\n",
              "      <td>10277380.0</td>\n",
              "      <td>None</td>\n",
              "      <td>None</td>\n",
              "      <td>None</td>\n",
              "    </tr>\n",
              "    <tr>\n",
              "      <th>1</th>\n",
              "      <td>None</td>\n",
              "      <td>None</td>\n",
              "      <td>It also includes every person who lives in a c...</td>\n",
              "      <td>None</td>\n",
              "      <td>twoandfifteen</td>\n",
              "      <td>NaN</td>\n",
              "      <td>1558153775</td>\n",
              "      <td>2019-05-18 04:29:35+00:00</td>\n",
              "      <td>comment</td>\n",
              "      <td>19945617</td>\n",
              "      <td>19944745.0</td>\n",
              "      <td>None</td>\n",
              "      <td>None</td>\n",
              "      <td>None</td>\n",
              "    </tr>\n",
              "  </tbody>\n",
              "</table>\n",
              "</div>"
            ],
            "text/plain": [
              "  title   url  ... ranking deleted\n",
              "0  None  None  ...    None    None\n",
              "1  None  None  ...    None    None\n",
              "\n",
              "[2 rows x 14 columns]"
            ]
          },
          "metadata": {
            "tags": []
          },
          "execution_count": 95
        }
      ]
    },
    {
      "cell_type": "markdown",
      "metadata": {
        "id": "BhbqKMqvE4ZR",
        "colab_type": "text"
      },
      "source": [
        "###full_201510"
      ]
    },
    {
      "cell_type": "code",
      "metadata": {
        "id": "fKVs7oyMEUuN",
        "colab_type": "code",
        "colab": {
          "base_uri": "https://localhost:8080/",
          "height": 0
        },
        "outputId": "a7ade771-bd60-482a-de75-fe78be23e64e"
      },
      "source": [
        "query = \"\"\"\n",
        "        SELECT *\n",
        "        FROM `bigquery-public-data.hacker_news.full_201510`\n",
        "        LIMIT 5\n",
        "        \"\"\"\n",
        "df = client.query(query).to_dataframe()\n",
        "df.head(2)"
      ],
      "execution_count": 96,
      "outputs": [
        {
          "output_type": "execute_result",
          "data": {
            "text/html": [
              "<div>\n",
              "<style scoped>\n",
              "    .dataframe tbody tr th:only-of-type {\n",
              "        vertical-align: middle;\n",
              "    }\n",
              "\n",
              "    .dataframe tbody tr th {\n",
              "        vertical-align: top;\n",
              "    }\n",
              "\n",
              "    .dataframe thead th {\n",
              "        text-align: right;\n",
              "    }\n",
              "</style>\n",
              "<table border=\"1\" class=\"dataframe\">\n",
              "  <thead>\n",
              "    <tr style=\"text-align: right;\">\n",
              "      <th></th>\n",
              "      <th>by</th>\n",
              "      <th>score</th>\n",
              "      <th>time</th>\n",
              "      <th>title</th>\n",
              "      <th>type</th>\n",
              "      <th>url</th>\n",
              "      <th>text</th>\n",
              "      <th>parent</th>\n",
              "      <th>deleted</th>\n",
              "      <th>dead</th>\n",
              "      <th>descendants</th>\n",
              "      <th>id</th>\n",
              "      <th>ranking</th>\n",
              "    </tr>\n",
              "  </thead>\n",
              "  <tbody>\n",
              "    <tr>\n",
              "      <th>0</th>\n",
              "      <td>nkoren</td>\n",
              "      <td>None</td>\n",
              "      <td>1438618077</td>\n",
              "      <td>None</td>\n",
              "      <td>comment</td>\n",
              "      <td>None</td>\n",
              "      <td>Thank you!!!</td>\n",
              "      <td>9995480</td>\n",
              "      <td>None</td>\n",
              "      <td>None</td>\n",
              "      <td>None</td>\n",
              "      <td>9997122</td>\n",
              "      <td>None</td>\n",
              "    </tr>\n",
              "    <tr>\n",
              "      <th>1</th>\n",
              "      <td>mjackson</td>\n",
              "      <td>None</td>\n",
              "      <td>1438618257</td>\n",
              "      <td>None</td>\n",
              "      <td>comment</td>\n",
              "      <td>None</td>\n",
              "      <td>&amp;gt; The centralization of information also wo...</td>\n",
              "      <td>9994653</td>\n",
              "      <td>None</td>\n",
              "      <td>None</td>\n",
              "      <td>None</td>\n",
              "      <td>9997162</td>\n",
              "      <td>None</td>\n",
              "    </tr>\n",
              "  </tbody>\n",
              "</table>\n",
              "</div>"
            ],
            "text/plain": [
              "         by score        time title  ...  dead descendants       id  ranking\n",
              "0    nkoren  None  1438618077  None  ...  None        None  9997122     None\n",
              "1  mjackson  None  1438618257  None  ...  None        None  9997162     None\n",
              "\n",
              "[2 rows x 13 columns]"
            ]
          },
          "metadata": {
            "tags": []
          },
          "execution_count": 96
        }
      ]
    },
    {
      "cell_type": "code",
      "metadata": {
        "id": "YwdCaUINFLyN",
        "colab_type": "code",
        "colab": {}
      },
      "source": [
        ""
      ],
      "execution_count": 96,
      "outputs": []
    },
    {
      "cell_type": "markdown",
      "metadata": {
        "id": "AarkbFK2Gcpx",
        "colab_type": "text"
      },
      "source": [
        "##How many unique authors are there?"
      ]
    },
    {
      "cell_type": "code",
      "metadata": {
        "id": "wOXhU2K4G3-N",
        "colab_type": "code",
        "colab": {
          "base_uri": "https://localhost:8080/",
          "height": 206
        },
        "outputId": "e90ff6c6-b3ee-4681-d236-7fa5b513be5b"
      },
      "source": [
        "query = \"\"\"\n",
        "        SELECT DISTINCT author\n",
        "        FROM `bigquery-public-data.hacker_news.stories`\n",
        "        WHERE title IS NOT NULL\n",
        "        GROUP BY author\n",
        "        \"\"\"\n",
        "df = client.query(query).to_dataframe()\n",
        "df.head(5)"
      ],
      "execution_count": 97,
      "outputs": [
        {
          "output_type": "execute_result",
          "data": {
            "text/html": [
              "<div>\n",
              "<style scoped>\n",
              "    .dataframe tbody tr th:only-of-type {\n",
              "        vertical-align: middle;\n",
              "    }\n",
              "\n",
              "    .dataframe tbody tr th {\n",
              "        vertical-align: top;\n",
              "    }\n",
              "\n",
              "    .dataframe thead th {\n",
              "        text-align: right;\n",
              "    }\n",
              "</style>\n",
              "<table border=\"1\" class=\"dataframe\">\n",
              "  <thead>\n",
              "    <tr style=\"text-align: right;\">\n",
              "      <th></th>\n",
              "      <th>author</th>\n",
              "    </tr>\n",
              "  </thead>\n",
              "  <tbody>\n",
              "    <tr>\n",
              "      <th>0</th>\n",
              "      <td>cflick</td>\n",
              "    </tr>\n",
              "    <tr>\n",
              "      <th>1</th>\n",
              "      <td>alikamp</td>\n",
              "    </tr>\n",
              "    <tr>\n",
              "      <th>2</th>\n",
              "      <td>jeassonlens</td>\n",
              "    </tr>\n",
              "    <tr>\n",
              "      <th>3</th>\n",
              "      <td>annawright010</td>\n",
              "    </tr>\n",
              "    <tr>\n",
              "      <th>4</th>\n",
              "      <td>limpeseunomebvw</td>\n",
              "    </tr>\n",
              "  </tbody>\n",
              "</table>\n",
              "</div>"
            ],
            "text/plain": [
              "            author\n",
              "0           cflick\n",
              "1          alikamp\n",
              "2      jeassonlens\n",
              "3    annawright010\n",
              "4  limpeseunomebvw"
            ]
          },
          "metadata": {
            "tags": []
          },
          "execution_count": 97
        }
      ]
    },
    {
      "cell_type": "code",
      "metadata": {
        "id": "0zJvGK7VOf9s",
        "colab_type": "code",
        "colab": {
          "base_uri": "https://localhost:8080/",
          "height": 54
        },
        "outputId": "876018fb-a05c-4368-c5f1-95841a487b7b"
      },
      "source": [
        "df.count()"
      ],
      "execution_count": 98,
      "outputs": [
        {
          "output_type": "execute_result",
          "data": {
            "text/plain": [
              "author    210368\n",
              "dtype: int64"
            ]
          },
          "metadata": {
            "tags": []
          },
          "execution_count": 98
        }
      ]
    },
    {
      "cell_type": "markdown",
      "metadata": {
        "id": "kX5JFSNLOl3q",
        "colab_type": "text"
      },
      "source": [
        "There appears to be 210,368 unique authors."
      ]
    },
    {
      "cell_type": "code",
      "metadata": {
        "id": "EMYNmVTMUK69",
        "colab_type": "code",
        "colab": {
          "base_uri": "https://localhost:8080/",
          "height": 35
        },
        "outputId": "ebea7cbc-4661-4897-cc66-2a5e155b7730"
      },
      "source": [
        "authors = df['author'].to_list()\n",
        "#print(authors)\n",
        "print(\"There are %d authors\" % len(authors))"
      ],
      "execution_count": 99,
      "outputs": [
        {
          "output_type": "stream",
          "text": [
            "There are 210368 authors\n"
          ],
          "name": "stdout"
        }
      ]
    },
    {
      "cell_type": "markdown",
      "metadata": {
        "id": "w5l4BjXfGi77",
        "colab_type": "text"
      },
      "source": [
        "##How many articles does this database have?\n"
      ]
    },
    {
      "cell_type": "code",
      "metadata": {
        "id": "0GhNLDCvRQQ2",
        "colab_type": "code",
        "colab": {}
      },
      "source": [
        "query = \"\"\"\n",
        "        SELECT DISTINCT title\n",
        "        FROM `bigquery-public-data.hacker_news.stories`\n",
        "        WHERE title IS NOT NULL\n",
        "        \"\"\"\n",
        "df = client.query(query).to_dataframe()"
      ],
      "execution_count": 100,
      "outputs": []
    },
    {
      "cell_type": "code",
      "metadata": {
        "id": "x6xGmo50SBVf",
        "colab_type": "code",
        "colab": {
          "base_uri": "https://localhost:8080/",
          "height": 54
        },
        "outputId": "ea10c290-7357-4a08-ae4e-3aa968c1c8d4"
      },
      "source": [
        "df.count()"
      ],
      "execution_count": 101,
      "outputs": [
        {
          "output_type": "execute_result",
          "data": {
            "text/plain": [
              "title    1751155\n",
              "dtype: int64"
            ]
          },
          "metadata": {
            "tags": []
          },
          "execution_count": 101
        }
      ]
    },
    {
      "cell_type": "markdown",
      "metadata": {
        "id": "LOkwudQcSOJ1",
        "colab_type": "text"
      },
      "source": [
        "There appears to be 1,751,155 articles."
      ]
    },
    {
      "cell_type": "markdown",
      "metadata": {
        "id": "oiw4HOfmTiUV",
        "colab_type": "text"
      },
      "source": [
        "##How many records are there?"
      ]
    },
    {
      "cell_type": "code",
      "metadata": {
        "id": "f9Be5jzgHCef",
        "colab_type": "code",
        "colab": {}
      },
      "source": [
        "query = \"\"\"\n",
        "        SELECT COUNT(*)\n",
        "        FROM `bigquery-public-data.hacker_news.stories`\n",
        "        \"\"\"\n",
        "df = client.query(query).to_dataframe()\n"
      ],
      "execution_count": 102,
      "outputs": []
    },
    {
      "cell_type": "code",
      "metadata": {
        "id": "VZVNdVFDTt4I",
        "colab_type": "code",
        "colab": {
          "base_uri": "https://localhost:8080/",
          "height": 81
        },
        "outputId": "137938d2-b806-449b-f6ee-82ca9fe6b343"
      },
      "source": [
        "df"
      ],
      "execution_count": 103,
      "outputs": [
        {
          "output_type": "execute_result",
          "data": {
            "text/html": [
              "<div>\n",
              "<style scoped>\n",
              "    .dataframe tbody tr th:only-of-type {\n",
              "        vertical-align: middle;\n",
              "    }\n",
              "\n",
              "    .dataframe tbody tr th {\n",
              "        vertical-align: top;\n",
              "    }\n",
              "\n",
              "    .dataframe thead th {\n",
              "        text-align: right;\n",
              "    }\n",
              "</style>\n",
              "<table border=\"1\" class=\"dataframe\">\n",
              "  <thead>\n",
              "    <tr style=\"text-align: right;\">\n",
              "      <th></th>\n",
              "      <th>f0_</th>\n",
              "    </tr>\n",
              "  </thead>\n",
              "  <tbody>\n",
              "    <tr>\n",
              "      <th>0</th>\n",
              "      <td>1959809</td>\n",
              "    </tr>\n",
              "  </tbody>\n",
              "</table>\n",
              "</div>"
            ],
            "text/plain": [
              "       f0_\n",
              "0  1959809"
            ]
          },
          "metadata": {
            "tags": []
          },
          "execution_count": 103
        }
      ]
    },
    {
      "cell_type": "markdown",
      "metadata": {
        "id": "k7D-LSkXTwyY",
        "colab_type": "text"
      },
      "source": [
        "There are 1,959,809 records."
      ]
    },
    {
      "cell_type": "markdown",
      "metadata": {
        "id": "3_yfS8HoVB6J",
        "colab_type": "text"
      },
      "source": [
        "##How many article titles start with 'D' and end with an 's'?"
      ]
    },
    {
      "cell_type": "code",
      "metadata": {
        "id": "HqQkFStvTukS",
        "colab_type": "code",
        "colab": {
          "base_uri": "https://localhost:8080/",
          "height": 238
        },
        "outputId": "bde33505-6940-4428-d1bc-2f261a009800"
      },
      "source": [
        "query = \"\"\"\n",
        "        SELECT DISTINCT title\n",
        "        FROM `bigquery-public-data.hacker_news.stories`\n",
        "        WHERE title LIKE 'D%' AND title LIKE '%s'\n",
        "        \"\"\"\n",
        "df = client.query(query).to_dataframe()\n",
        "df.head(6)"
      ],
      "execution_count": 104,
      "outputs": [
        {
          "output_type": "execute_result",
          "data": {
            "text/html": [
              "<div>\n",
              "<style scoped>\n",
              "    .dataframe tbody tr th:only-of-type {\n",
              "        vertical-align: middle;\n",
              "    }\n",
              "\n",
              "    .dataframe tbody tr th {\n",
              "        vertical-align: top;\n",
              "    }\n",
              "\n",
              "    .dataframe thead th {\n",
              "        text-align: right;\n",
              "    }\n",
              "</style>\n",
              "<table border=\"1\" class=\"dataframe\">\n",
              "  <thead>\n",
              "    <tr style=\"text-align: right;\">\n",
              "      <th></th>\n",
              "      <th>title</th>\n",
              "    </tr>\n",
              "  </thead>\n",
              "  <tbody>\n",
              "    <tr>\n",
              "      <th>0</th>\n",
              "      <td>Directory of Directories</td>\n",
              "    </tr>\n",
              "    <tr>\n",
              "      <th>1</th>\n",
              "      <td>Disqus security hole links racist comments to ...</td>\n",
              "    </tr>\n",
              "    <tr>\n",
              "      <th>2</th>\n",
              "      <td>Dog eats too many cookies</td>\n",
              "    </tr>\n",
              "    <tr>\n",
              "      <th>3</th>\n",
              "      <td>Dubai Indian Escorts</td>\n",
              "    </tr>\n",
              "    <tr>\n",
              "      <th>4</th>\n",
              "      <td>Dtrace progress</td>\n",
              "    </tr>\n",
              "    <tr>\n",
              "      <th>5</th>\n",
              "      <td>Decoding CAPTCHAs</td>\n",
              "    </tr>\n",
              "  </tbody>\n",
              "</table>\n",
              "</div>"
            ],
            "text/plain": [
              "                                               title\n",
              "0                           Directory of Directories\n",
              "1  Disqus security hole links racist comments to ...\n",
              "2                          Dog eats too many cookies\n",
              "3                               Dubai Indian Escorts\n",
              "4                                    Dtrace progress\n",
              "5                                  Decoding CAPTCHAs"
            ]
          },
          "metadata": {
            "tags": []
          },
          "execution_count": 104
        }
      ]
    },
    {
      "cell_type": "code",
      "metadata": {
        "id": "KfjU2Nq5V0Es",
        "colab_type": "code",
        "colab": {
          "base_uri": "https://localhost:8080/",
          "height": 35
        },
        "outputId": "65b6bdbb-6e85-45dd-ccc6-f8ef342048d4"
      },
      "source": [
        "df.shape"
      ],
      "execution_count": 105,
      "outputs": [
        {
          "output_type": "execute_result",
          "data": {
            "text/plain": [
              "(11457, 1)"
            ]
          },
          "metadata": {
            "tags": []
          },
          "execution_count": 105
        }
      ]
    },
    {
      "cell_type": "markdown",
      "metadata": {
        "id": "UeUyFlf5WJIP",
        "colab_type": "text"
      },
      "source": [
        "11,457 titles."
      ]
    },
    {
      "cell_type": "markdown",
      "metadata": {
        "id": "JJ_hwJB7WV34",
        "colab_type": "text"
      },
      "source": [
        "##How many titles start with a 'T' or a 'G'?"
      ]
    },
    {
      "cell_type": "code",
      "metadata": {
        "id": "nRoWwCZyWCcJ",
        "colab_type": "code",
        "colab": {
          "base_uri": "https://localhost:8080/",
          "height": 238
        },
        "outputId": "c4cbf8f9-4eca-4e6f-ff1d-61fa933e2122"
      },
      "source": [
        "query = \"\"\"\n",
        "        SELECT DISTINCT title AS Article\n",
        "        FROM `bigquery-public-data.hacker_news.stories`\n",
        "        WHERE title LIKE 'T%' OR title LIKE '%G'\n",
        "        \"\"\"\n",
        "df = client.query(query).to_dataframe()\n",
        "df.head(6)"
      ],
      "execution_count": 106,
      "outputs": [
        {
          "output_type": "execute_result",
          "data": {
            "text/html": [
              "<div>\n",
              "<style scoped>\n",
              "    .dataframe tbody tr th:only-of-type {\n",
              "        vertical-align: middle;\n",
              "    }\n",
              "\n",
              "    .dataframe tbody tr th {\n",
              "        vertical-align: top;\n",
              "    }\n",
              "\n",
              "    .dataframe thead th {\n",
              "        text-align: right;\n",
              "    }\n",
              "</style>\n",
              "<table border=\"1\" class=\"dataframe\">\n",
              "  <thead>\n",
              "    <tr style=\"text-align: right;\">\n",
              "      <th></th>\n",
              "      <th>Article</th>\n",
              "    </tr>\n",
              "  </thead>\n",
              "  <tbody>\n",
              "    <tr>\n",
              "      <th>0</th>\n",
              "      <td>Tesrrr</td>\n",
              "    </tr>\n",
              "    <tr>\n",
              "      <th>1</th>\n",
              "      <td>Tacx Turbo Trainers</td>\n",
              "    </tr>\n",
              "    <tr>\n",
              "      <th>2</th>\n",
              "      <td>The Antikythera Mechanism, The Worlds Oldest K...</td>\n",
              "    </tr>\n",
              "    <tr>\n",
              "      <th>3</th>\n",
              "      <td>This guy just found out how to bypass adblocker</td>\n",
              "    </tr>\n",
              "    <tr>\n",
              "      <th>4</th>\n",
              "      <td>The first Copa America trophy that goes to</td>\n",
              "    </tr>\n",
              "    <tr>\n",
              "      <th>5</th>\n",
              "      <td>The future of the Desktop in Windows 9: What c...</td>\n",
              "    </tr>\n",
              "  </tbody>\n",
              "</table>\n",
              "</div>"
            ],
            "text/plain": [
              "                                             Article\n",
              "0                                             Tesrrr\n",
              "1                                Tacx Turbo Trainers\n",
              "2  The Antikythera Mechanism, The Worlds Oldest K...\n",
              "3    This guy just found out how to bypass adblocker\n",
              "4         The first Copa America trophy that goes to\n",
              "5  The future of the Desktop in Windows 9: What c..."
            ]
          },
          "metadata": {
            "tags": []
          },
          "execution_count": 106
        }
      ]
    },
    {
      "cell_type": "code",
      "metadata": {
        "id": "ea__hWMBX_LM",
        "colab_type": "code",
        "colab": {
          "base_uri": "https://localhost:8080/",
          "height": 206
        },
        "outputId": "57dfbb21-9509-4ba1-87c6-1236c0b57485"
      },
      "source": [
        "df.tail()"
      ],
      "execution_count": 107,
      "outputs": [
        {
          "output_type": "execute_result",
          "data": {
            "text/html": [
              "<div>\n",
              "<style scoped>\n",
              "    .dataframe tbody tr th:only-of-type {\n",
              "        vertical-align: middle;\n",
              "    }\n",
              "\n",
              "    .dataframe tbody tr th {\n",
              "        vertical-align: top;\n",
              "    }\n",
              "\n",
              "    .dataframe thead th {\n",
              "        text-align: right;\n",
              "    }\n",
              "</style>\n",
              "<table border=\"1\" class=\"dataframe\">\n",
              "  <thead>\n",
              "    <tr style=\"text-align: right;\">\n",
              "      <th></th>\n",
              "      <th>Article</th>\n",
              "    </tr>\n",
              "  </thead>\n",
              "  <tbody>\n",
              "    <tr>\n",
              "      <th>175770</th>\n",
              "      <td>Lossy PNG</td>\n",
              "    </tr>\n",
              "    <tr>\n",
              "      <th>175771</th>\n",
              "      <td>The effect of typefaces on credibility</td>\n",
              "    </tr>\n",
              "    <tr>\n",
              "      <th>175772</th>\n",
              "      <td>The Rise of \"Logical Punctuation\".</td>\n",
              "    </tr>\n",
              "    <tr>\n",
              "      <th>175773</th>\n",
              "      <td>The Merge Button</td>\n",
              "    </tr>\n",
              "    <tr>\n",
              "      <th>175774</th>\n",
              "      <td>The new 501(c)(3) and the future of free softw...</td>\n",
              "    </tr>\n",
              "  </tbody>\n",
              "</table>\n",
              "</div>"
            ],
            "text/plain": [
              "                                                  Article\n",
              "175770                                          Lossy PNG\n",
              "175771             The effect of typefaces on credibility\n",
              "175772                 The Rise of \"Logical Punctuation\".\n",
              "175773                                   The Merge Button\n",
              "175774  The new 501(c)(3) and the future of free softw..."
            ]
          },
          "metadata": {
            "tags": []
          },
          "execution_count": 107
        }
      ]
    },
    {
      "cell_type": "code",
      "metadata": {
        "id": "NTz6-8RwYD_H",
        "colab_type": "code",
        "colab": {
          "base_uri": "https://localhost:8080/",
          "height": 35
        },
        "outputId": "78bac31c-1908-408b-bb95-bc453ec78d55"
      },
      "source": [
        "df.shape"
      ],
      "execution_count": 108,
      "outputs": [
        {
          "output_type": "execute_result",
          "data": {
            "text/plain": [
              "(175775, 1)"
            ]
          },
          "metadata": {
            "tags": []
          },
          "execution_count": 108
        }
      ]
    },
    {
      "cell_type": "markdown",
      "metadata": {
        "id": "u0ZvTp6KYHwA",
        "colab_type": "text"
      },
      "source": [
        "175,775 titles start with a 'T' OR a 'G'."
      ]
    },
    {
      "cell_type": "markdown",
      "metadata": {
        "id": "6SfDQG7kZxD4",
        "colab_type": "text"
      },
      "source": [
        "##Show authors in alphabetical order"
      ]
    },
    {
      "cell_type": "code",
      "metadata": {
        "id": "5RjG3-Z0YHAK",
        "colab_type": "code",
        "colab": {
          "base_uri": "https://localhost:8080/",
          "height": 206
        },
        "outputId": "beeb618b-8149-449c-a13f-ee1563702e08"
      },
      "source": [
        "query = \"\"\"\n",
        "        SELECT DISTINCT author\n",
        "        FROM `bigquery-public-data.hacker_news.stories`\n",
        "        WHERE title IS NOT NULL\n",
        "        ORDER BY author \n",
        "        \"\"\"\n",
        "df = client.query(query).to_dataframe()\n",
        "df.head(5)"
      ],
      "execution_count": 109,
      "outputs": [
        {
          "output_type": "execute_result",
          "data": {
            "text/html": [
              "<div>\n",
              "<style scoped>\n",
              "    .dataframe tbody tr th:only-of-type {\n",
              "        vertical-align: middle;\n",
              "    }\n",
              "\n",
              "    .dataframe tbody tr th {\n",
              "        vertical-align: top;\n",
              "    }\n",
              "\n",
              "    .dataframe thead th {\n",
              "        text-align: right;\n",
              "    }\n",
              "</style>\n",
              "<table border=\"1\" class=\"dataframe\">\n",
              "  <thead>\n",
              "    <tr style=\"text-align: right;\">\n",
              "      <th></th>\n",
              "      <th>author</th>\n",
              "    </tr>\n",
              "  </thead>\n",
              "  <tbody>\n",
              "    <tr>\n",
              "      <th>0</th>\n",
              "      <td>0-o</td>\n",
              "    </tr>\n",
              "    <tr>\n",
              "      <th>1</th>\n",
              "      <td>0000000000</td>\n",
              "    </tr>\n",
              "    <tr>\n",
              "      <th>2</th>\n",
              "      <td>000000swan</td>\n",
              "    </tr>\n",
              "    <tr>\n",
              "      <th>3</th>\n",
              "      <td>00001212</td>\n",
              "    </tr>\n",
              "    <tr>\n",
              "      <th>4</th>\n",
              "      <td>0003</td>\n",
              "    </tr>\n",
              "  </tbody>\n",
              "</table>\n",
              "</div>"
            ],
            "text/plain": [
              "       author\n",
              "0         0-o\n",
              "1  0000000000\n",
              "2  000000swan\n",
              "3    00001212\n",
              "4        0003"
            ]
          },
          "metadata": {
            "tags": []
          },
          "execution_count": 109
        }
      ]
    },
    {
      "cell_type": "code",
      "metadata": {
        "id": "3DC8nqrZaCfz",
        "colab_type": "code",
        "colab": {
          "base_uri": "https://localhost:8080/",
          "height": 206
        },
        "outputId": "ece7c021-31aa-4a04-9a7e-8a69f5e6d742"
      },
      "source": [
        "df.tail()"
      ],
      "execution_count": 110,
      "outputs": [
        {
          "output_type": "execute_result",
          "data": {
            "text/html": [
              "<div>\n",
              "<style scoped>\n",
              "    .dataframe tbody tr th:only-of-type {\n",
              "        vertical-align: middle;\n",
              "    }\n",
              "\n",
              "    .dataframe tbody tr th {\n",
              "        vertical-align: top;\n",
              "    }\n",
              "\n",
              "    .dataframe thead th {\n",
              "        text-align: right;\n",
              "    }\n",
              "</style>\n",
              "<table border=\"1\" class=\"dataframe\">\n",
              "  <thead>\n",
              "    <tr style=\"text-align: right;\">\n",
              "      <th></th>\n",
              "      <th>author</th>\n",
              "    </tr>\n",
              "  </thead>\n",
              "  <tbody>\n",
              "    <tr>\n",
              "      <th>210363</th>\n",
              "      <td>zzzviad</td>\n",
              "    </tr>\n",
              "    <tr>\n",
              "      <th>210364</th>\n",
              "      <td>zzzxxx</td>\n",
              "    </tr>\n",
              "    <tr>\n",
              "      <th>210365</th>\n",
              "      <td>zzzzhe</td>\n",
              "    </tr>\n",
              "    <tr>\n",
              "      <th>210366</th>\n",
              "      <td>zzzzz_</td>\n",
              "    </tr>\n",
              "    <tr>\n",
              "      <th>210367</th>\n",
              "      <td>zzzzzzzzz</td>\n",
              "    </tr>\n",
              "  </tbody>\n",
              "</table>\n",
              "</div>"
            ],
            "text/plain": [
              "           author\n",
              "210363    zzzviad\n",
              "210364     zzzxxx\n",
              "210365     zzzzhe\n",
              "210366     zzzzz_\n",
              "210367  zzzzzzzzz"
            ]
          },
          "metadata": {
            "tags": []
          },
          "execution_count": 110
        }
      ]
    },
    {
      "cell_type": "markdown",
      "metadata": {
        "id": "Y-k58oFIc47y",
        "colab_type": "text"
      },
      "source": [
        "##What dates does this cover?"
      ]
    },
    {
      "cell_type": "code",
      "metadata": {
        "id": "-lBWshvwaJZD",
        "colab_type": "code",
        "colab": {
          "base_uri": "https://localhost:8080/",
          "height": 206
        },
        "outputId": "9206d6b6-a22f-460d-8ea4-d6d472cf2d82"
      },
      "source": [
        "query = \"\"\"\n",
        "        SELECT DISTINCT time_ts, title\n",
        "        FROM `bigquery-public-data.hacker_news.stories`\n",
        "        ORDER BY time_ts\n",
        "        \"\"\"\n",
        "df = client.query(query).to_dataframe()\n",
        "df.head()"
      ],
      "execution_count": 132,
      "outputs": [
        {
          "output_type": "execute_result",
          "data": {
            "text/html": [
              "<div>\n",
              "<style scoped>\n",
              "    .dataframe tbody tr th:only-of-type {\n",
              "        vertical-align: middle;\n",
              "    }\n",
              "\n",
              "    .dataframe tbody tr th {\n",
              "        vertical-align: top;\n",
              "    }\n",
              "\n",
              "    .dataframe thead th {\n",
              "        text-align: right;\n",
              "    }\n",
              "</style>\n",
              "<table border=\"1\" class=\"dataframe\">\n",
              "  <thead>\n",
              "    <tr style=\"text-align: right;\">\n",
              "      <th></th>\n",
              "      <th>time_ts</th>\n",
              "      <th>title</th>\n",
              "    </tr>\n",
              "  </thead>\n",
              "  <tbody>\n",
              "    <tr>\n",
              "      <th>0</th>\n",
              "      <td>NaT</td>\n",
              "      <td>None</td>\n",
              "    </tr>\n",
              "    <tr>\n",
              "      <th>1</th>\n",
              "      <td>2006-10-09 18:21:51+00:00</td>\n",
              "      <td>Y Combinator</td>\n",
              "    </tr>\n",
              "    <tr>\n",
              "      <th>2</th>\n",
              "      <td>2006-10-09 18:30:28+00:00</td>\n",
              "      <td>A Student's Guide to Startups</td>\n",
              "    </tr>\n",
              "    <tr>\n",
              "      <th>3</th>\n",
              "      <td>2006-10-09 18:40:33+00:00</td>\n",
              "      <td>Woz Interview: the early days of Apple</td>\n",
              "    </tr>\n",
              "    <tr>\n",
              "      <th>4</th>\n",
              "      <td>2006-10-09 18:47:42+00:00</td>\n",
              "      <td>NYC Developer Dilemma</td>\n",
              "    </tr>\n",
              "  </tbody>\n",
              "</table>\n",
              "</div>"
            ],
            "text/plain": [
              "                    time_ts                                   title\n",
              "0                       NaT                                    None\n",
              "1 2006-10-09 18:21:51+00:00                            Y Combinator\n",
              "2 2006-10-09 18:30:28+00:00           A Student's Guide to Startups\n",
              "3 2006-10-09 18:40:33+00:00  Woz Interview: the early days of Apple\n",
              "4 2006-10-09 18:47:42+00:00                   NYC Developer Dilemma"
            ]
          },
          "metadata": {
            "tags": []
          },
          "execution_count": 132
        }
      ]
    },
    {
      "cell_type": "code",
      "metadata": {
        "id": "k9mlACsgeNPh",
        "colab_type": "code",
        "colab": {
          "base_uri": "https://localhost:8080/",
          "height": 206
        },
        "outputId": "8ef4953c-0e34-44f1-f180-59ba4a7b15e6"
      },
      "source": [
        "df.tail()"
      ],
      "execution_count": 133,
      "outputs": [
        {
          "output_type": "execute_result",
          "data": {
            "text/html": [
              "<div>\n",
              "<style scoped>\n",
              "    .dataframe tbody tr th:only-of-type {\n",
              "        vertical-align: middle;\n",
              "    }\n",
              "\n",
              "    .dataframe tbody tr th {\n",
              "        vertical-align: top;\n",
              "    }\n",
              "\n",
              "    .dataframe thead th {\n",
              "        text-align: right;\n",
              "    }\n",
              "</style>\n",
              "<table border=\"1\" class=\"dataframe\">\n",
              "  <thead>\n",
              "    <tr style=\"text-align: right;\">\n",
              "      <th></th>\n",
              "      <th>time_ts</th>\n",
              "      <th>title</th>\n",
              "    </tr>\n",
              "  </thead>\n",
              "  <tbody>\n",
              "    <tr>\n",
              "      <th>1933810</th>\n",
              "      <td>2015-10-13 08:36:44+00:00</td>\n",
              "      <td>New gTLDs according to Registrants</td>\n",
              "    </tr>\n",
              "    <tr>\n",
              "      <th>1933811</th>\n",
              "      <td>2015-10-13 08:39:14+00:00</td>\n",
              "      <td>The biggest risk we can take is to allow ourse...</td>\n",
              "    </tr>\n",
              "    <tr>\n",
              "      <th>1933812</th>\n",
              "      <td>2015-10-13 08:41:02+00:00</td>\n",
              "      <td>How a Journalist and a Music Producer Built a ...</td>\n",
              "    </tr>\n",
              "    <tr>\n",
              "      <th>1933813</th>\n",
              "      <td>2015-10-13 08:43:48+00:00</td>\n",
              "      <td>The gifts of the world’s most lethal animal</td>\n",
              "    </tr>\n",
              "    <tr>\n",
              "      <th>1933814</th>\n",
              "      <td>2015-10-13 08:44:34+00:00</td>\n",
              "      <td>The Software Behind the Large Hadron Collider ...</td>\n",
              "    </tr>\n",
              "  </tbody>\n",
              "</table>\n",
              "</div>"
            ],
            "text/plain": [
              "                          time_ts                                              title\n",
              "1933810 2015-10-13 08:36:44+00:00                 New gTLDs according to Registrants\n",
              "1933811 2015-10-13 08:39:14+00:00  The biggest risk we can take is to allow ourse...\n",
              "1933812 2015-10-13 08:41:02+00:00  How a Journalist and a Music Producer Built a ...\n",
              "1933813 2015-10-13 08:43:48+00:00        The gifts of the world’s most lethal animal\n",
              "1933814 2015-10-13 08:44:34+00:00  The Software Behind the Large Hadron Collider ..."
            ]
          },
          "metadata": {
            "tags": []
          },
          "execution_count": 133
        }
      ]
    },
    {
      "cell_type": "markdown",
      "metadata": {
        "id": "dfwifjn1eSaB",
        "colab_type": "text"
      },
      "source": [
        "It goes from October 9th, 2006 to October 13th, 2015."
      ]
    },
    {
      "cell_type": "code",
      "metadata": {
        "id": "pYy51f3XdbZ-",
        "colab_type": "code",
        "colab": {}
      },
      "source": [
        "df['date'] = pd.to_datetime(df['time_ts']).apply(lambda x: x.date())"
      ],
      "execution_count": 134,
      "outputs": []
    },
    {
      "cell_type": "code",
      "metadata": {
        "id": "LwWqT7v_eRW9",
        "colab_type": "code",
        "colab": {
          "base_uri": "https://localhost:8080/",
          "height": 206
        },
        "outputId": "dccba932-2fba-4dc5-c937-3f39c6804c08"
      },
      "source": [
        "df.head()"
      ],
      "execution_count": 135,
      "outputs": [
        {
          "output_type": "execute_result",
          "data": {
            "text/html": [
              "<div>\n",
              "<style scoped>\n",
              "    .dataframe tbody tr th:only-of-type {\n",
              "        vertical-align: middle;\n",
              "    }\n",
              "\n",
              "    .dataframe tbody tr th {\n",
              "        vertical-align: top;\n",
              "    }\n",
              "\n",
              "    .dataframe thead th {\n",
              "        text-align: right;\n",
              "    }\n",
              "</style>\n",
              "<table border=\"1\" class=\"dataframe\">\n",
              "  <thead>\n",
              "    <tr style=\"text-align: right;\">\n",
              "      <th></th>\n",
              "      <th>time_ts</th>\n",
              "      <th>title</th>\n",
              "      <th>date</th>\n",
              "    </tr>\n",
              "  </thead>\n",
              "  <tbody>\n",
              "    <tr>\n",
              "      <th>0</th>\n",
              "      <td>NaT</td>\n",
              "      <td>None</td>\n",
              "      <td>NaT</td>\n",
              "    </tr>\n",
              "    <tr>\n",
              "      <th>1</th>\n",
              "      <td>2006-10-09 18:21:51+00:00</td>\n",
              "      <td>Y Combinator</td>\n",
              "      <td>2006-10-09</td>\n",
              "    </tr>\n",
              "    <tr>\n",
              "      <th>2</th>\n",
              "      <td>2006-10-09 18:30:28+00:00</td>\n",
              "      <td>A Student's Guide to Startups</td>\n",
              "      <td>2006-10-09</td>\n",
              "    </tr>\n",
              "    <tr>\n",
              "      <th>3</th>\n",
              "      <td>2006-10-09 18:40:33+00:00</td>\n",
              "      <td>Woz Interview: the early days of Apple</td>\n",
              "      <td>2006-10-09</td>\n",
              "    </tr>\n",
              "    <tr>\n",
              "      <th>4</th>\n",
              "      <td>2006-10-09 18:47:42+00:00</td>\n",
              "      <td>NYC Developer Dilemma</td>\n",
              "      <td>2006-10-09</td>\n",
              "    </tr>\n",
              "  </tbody>\n",
              "</table>\n",
              "</div>"
            ],
            "text/plain": [
              "                    time_ts                                   title        date\n",
              "0                       NaT                                    None         NaT\n",
              "1 2006-10-09 18:21:51+00:00                            Y Combinator  2006-10-09\n",
              "2 2006-10-09 18:30:28+00:00           A Student's Guide to Startups  2006-10-09\n",
              "3 2006-10-09 18:40:33+00:00  Woz Interview: the early days of Apple  2006-10-09\n",
              "4 2006-10-09 18:47:42+00:00                   NYC Developer Dilemma  2006-10-09"
            ]
          },
          "metadata": {
            "tags": []
          },
          "execution_count": 135
        }
      ]
    },
    {
      "cell_type": "code",
      "metadata": {
        "id": "T39K8i-8eVUq",
        "colab_type": "code",
        "colab": {
          "base_uri": "https://localhost:8080/",
          "height": 206
        },
        "outputId": "7129c927-ac01-4a33-c016-59599cb931ec"
      },
      "source": [
        "df.tail()"
      ],
      "execution_count": 136,
      "outputs": [
        {
          "output_type": "execute_result",
          "data": {
            "text/html": [
              "<div>\n",
              "<style scoped>\n",
              "    .dataframe tbody tr th:only-of-type {\n",
              "        vertical-align: middle;\n",
              "    }\n",
              "\n",
              "    .dataframe tbody tr th {\n",
              "        vertical-align: top;\n",
              "    }\n",
              "\n",
              "    .dataframe thead th {\n",
              "        text-align: right;\n",
              "    }\n",
              "</style>\n",
              "<table border=\"1\" class=\"dataframe\">\n",
              "  <thead>\n",
              "    <tr style=\"text-align: right;\">\n",
              "      <th></th>\n",
              "      <th>time_ts</th>\n",
              "      <th>title</th>\n",
              "      <th>date</th>\n",
              "    </tr>\n",
              "  </thead>\n",
              "  <tbody>\n",
              "    <tr>\n",
              "      <th>1933810</th>\n",
              "      <td>2015-10-13 08:36:44+00:00</td>\n",
              "      <td>New gTLDs according to Registrants</td>\n",
              "      <td>2015-10-13</td>\n",
              "    </tr>\n",
              "    <tr>\n",
              "      <th>1933811</th>\n",
              "      <td>2015-10-13 08:39:14+00:00</td>\n",
              "      <td>The biggest risk we can take is to allow ourse...</td>\n",
              "      <td>2015-10-13</td>\n",
              "    </tr>\n",
              "    <tr>\n",
              "      <th>1933812</th>\n",
              "      <td>2015-10-13 08:41:02+00:00</td>\n",
              "      <td>How a Journalist and a Music Producer Built a ...</td>\n",
              "      <td>2015-10-13</td>\n",
              "    </tr>\n",
              "    <tr>\n",
              "      <th>1933813</th>\n",
              "      <td>2015-10-13 08:43:48+00:00</td>\n",
              "      <td>The gifts of the world’s most lethal animal</td>\n",
              "      <td>2015-10-13</td>\n",
              "    </tr>\n",
              "    <tr>\n",
              "      <th>1933814</th>\n",
              "      <td>2015-10-13 08:44:34+00:00</td>\n",
              "      <td>The Software Behind the Large Hadron Collider ...</td>\n",
              "      <td>2015-10-13</td>\n",
              "    </tr>\n",
              "  </tbody>\n",
              "</table>\n",
              "</div>"
            ],
            "text/plain": [
              "                          time_ts  ...        date\n",
              "1933810 2015-10-13 08:36:44+00:00  ...  2015-10-13\n",
              "1933811 2015-10-13 08:39:14+00:00  ...  2015-10-13\n",
              "1933812 2015-10-13 08:41:02+00:00  ...  2015-10-13\n",
              "1933813 2015-10-13 08:43:48+00:00  ...  2015-10-13\n",
              "1933814 2015-10-13 08:44:34+00:00  ...  2015-10-13\n",
              "\n",
              "[5 rows x 3 columns]"
            ]
          },
          "metadata": {
            "tags": []
          },
          "execution_count": 136
        }
      ]
    },
    {
      "cell_type": "code",
      "metadata": {
        "id": "ICvDrq8RfEar",
        "colab_type": "code",
        "colab": {
          "base_uri": "https://localhost:8080/",
          "height": 35
        },
        "outputId": "88d71c95-4201-4d1e-87b9-32fb5b878359"
      },
      "source": [
        "type(df['date'].iloc[0])"
      ],
      "execution_count": 137,
      "outputs": [
        {
          "output_type": "execute_result",
          "data": {
            "text/plain": [
              "pandas._libs.tslibs.nattype.NaTType"
            ]
          },
          "metadata": {
            "tags": []
          },
          "execution_count": 137
        }
      ]
    },
    {
      "cell_type": "code",
      "metadata": {
        "id": "Uu1_s7HDfb7z",
        "colab_type": "code",
        "colab": {
          "base_uri": "https://localhost:8080/",
          "height": 90
        },
        "outputId": "58b4a491-3940-4b24-c7ef-bf7f4dd8de9d"
      },
      "source": [
        "df.dtypes"
      ],
      "execution_count": 138,
      "outputs": [
        {
          "output_type": "execute_result",
          "data": {
            "text/plain": [
              "time_ts    datetime64[ns, UTC]\n",
              "title                   object\n",
              "date                    object\n",
              "dtype: object"
            ]
          },
          "metadata": {
            "tags": []
          },
          "execution_count": 138
        }
      ]
    },
    {
      "cell_type": "markdown",
      "metadata": {
        "id": "FB3UTvqVCDNp",
        "colab_type": "text"
      },
      "source": [
        "Lets simplify the timestamp column..."
      ]
    },
    {
      "cell_type": "code",
      "metadata": {
        "id": "vgjeALEWfsSi",
        "colab_type": "code",
        "colab": {
          "base_uri": "https://localhost:8080/",
          "height": 206
        },
        "outputId": "a7f8bf96-5157-42ab-ae44-d3ddcccab47d"
      },
      "source": [
        "df['datetime'] = pd.to_datetime(df['date'])\n",
        "df.head()"
      ],
      "execution_count": 139,
      "outputs": [
        {
          "output_type": "execute_result",
          "data": {
            "text/html": [
              "<div>\n",
              "<style scoped>\n",
              "    .dataframe tbody tr th:only-of-type {\n",
              "        vertical-align: middle;\n",
              "    }\n",
              "\n",
              "    .dataframe tbody tr th {\n",
              "        vertical-align: top;\n",
              "    }\n",
              "\n",
              "    .dataframe thead th {\n",
              "        text-align: right;\n",
              "    }\n",
              "</style>\n",
              "<table border=\"1\" class=\"dataframe\">\n",
              "  <thead>\n",
              "    <tr style=\"text-align: right;\">\n",
              "      <th></th>\n",
              "      <th>time_ts</th>\n",
              "      <th>title</th>\n",
              "      <th>date</th>\n",
              "      <th>datetime</th>\n",
              "    </tr>\n",
              "  </thead>\n",
              "  <tbody>\n",
              "    <tr>\n",
              "      <th>0</th>\n",
              "      <td>NaT</td>\n",
              "      <td>None</td>\n",
              "      <td>NaT</td>\n",
              "      <td>NaT</td>\n",
              "    </tr>\n",
              "    <tr>\n",
              "      <th>1</th>\n",
              "      <td>2006-10-09 18:21:51+00:00</td>\n",
              "      <td>Y Combinator</td>\n",
              "      <td>2006-10-09</td>\n",
              "      <td>2006-10-09</td>\n",
              "    </tr>\n",
              "    <tr>\n",
              "      <th>2</th>\n",
              "      <td>2006-10-09 18:30:28+00:00</td>\n",
              "      <td>A Student's Guide to Startups</td>\n",
              "      <td>2006-10-09</td>\n",
              "      <td>2006-10-09</td>\n",
              "    </tr>\n",
              "    <tr>\n",
              "      <th>3</th>\n",
              "      <td>2006-10-09 18:40:33+00:00</td>\n",
              "      <td>Woz Interview: the early days of Apple</td>\n",
              "      <td>2006-10-09</td>\n",
              "      <td>2006-10-09</td>\n",
              "    </tr>\n",
              "    <tr>\n",
              "      <th>4</th>\n",
              "      <td>2006-10-09 18:47:42+00:00</td>\n",
              "      <td>NYC Developer Dilemma</td>\n",
              "      <td>2006-10-09</td>\n",
              "      <td>2006-10-09</td>\n",
              "    </tr>\n",
              "  </tbody>\n",
              "</table>\n",
              "</div>"
            ],
            "text/plain": [
              "                    time_ts  ...   datetime\n",
              "0                       NaT  ...        NaT\n",
              "1 2006-10-09 18:21:51+00:00  ... 2006-10-09\n",
              "2 2006-10-09 18:30:28+00:00  ... 2006-10-09\n",
              "3 2006-10-09 18:40:33+00:00  ... 2006-10-09\n",
              "4 2006-10-09 18:47:42+00:00  ... 2006-10-09\n",
              "\n",
              "[5 rows x 4 columns]"
            ]
          },
          "metadata": {
            "tags": []
          },
          "execution_count": 139
        }
      ]
    },
    {
      "cell_type": "code",
      "metadata": {
        "id": "TRssqPgvfxCv",
        "colab_type": "code",
        "colab": {
          "base_uri": "https://localhost:8080/",
          "height": 109
        },
        "outputId": "42dd521e-a9eb-4797-82d9-497f03fa9b4d"
      },
      "source": [
        "df.dtypes"
      ],
      "execution_count": 140,
      "outputs": [
        {
          "output_type": "execute_result",
          "data": {
            "text/plain": [
              "time_ts     datetime64[ns, UTC]\n",
              "title                    object\n",
              "date                     object\n",
              "datetime         datetime64[ns]\n",
              "dtype: object"
            ]
          },
          "metadata": {
            "tags": []
          },
          "execution_count": 140
        }
      ]
    },
    {
      "cell_type": "markdown",
      "metadata": {
        "id": "V36ok9dnsvm2",
        "colab_type": "text"
      },
      "source": [
        "Lets try pulling a month out of the date"
      ]
    },
    {
      "cell_type": "code",
      "metadata": {
        "id": "LLStpovUrQJe",
        "colab_type": "code",
        "colab": {}
      },
      "source": [
        "example = df['datetime'].iloc[1]"
      ],
      "execution_count": 141,
      "outputs": []
    },
    {
      "cell_type": "markdown",
      "metadata": {
        "id": "9FFI5pcqtW_c",
        "colab_type": "text"
      },
      "source": [
        "'example' is now a datetime object"
      ]
    },
    {
      "cell_type": "code",
      "metadata": {
        "id": "HwQKs2REtKmN",
        "colab_type": "code",
        "colab": {
          "base_uri": "https://localhost:8080/",
          "height": 35
        },
        "outputId": "c384b090-bcb8-41bd-9ceb-5bdcf2389286"
      },
      "source": [
        "example.month"
      ],
      "execution_count": 142,
      "outputs": [
        {
          "output_type": "execute_result",
          "data": {
            "text/plain": [
              "10"
            ]
          },
          "metadata": {
            "tags": []
          },
          "execution_count": 142
        }
      ]
    },
    {
      "cell_type": "markdown",
      "metadata": {
        "id": "vw8Xxs6ItloT",
        "colab_type": "text"
      },
      "source": [
        "lets make a feature with just the month for each row..."
      ]
    },
    {
      "cell_type": "code",
      "metadata": {
        "id": "jImhNHqAtkAr",
        "colab_type": "code",
        "colab": {}
      },
      "source": [
        "df['month'] = df['datetime'].apply(lambda x: x.month)"
      ],
      "execution_count": 143,
      "outputs": []
    },
    {
      "cell_type": "markdown",
      "metadata": {
        "id": "hpkRDIBCCLxp",
        "colab_type": "text"
      },
      "source": [
        "And one for the year..."
      ]
    },
    {
      "cell_type": "code",
      "metadata": {
        "id": "AT-fs4Fg8Pua",
        "colab_type": "code",
        "colab": {}
      },
      "source": [
        "df['year'] = df['datetime'].apply(lambda x: x.year)"
      ],
      "execution_count": 144,
      "outputs": []
    },
    {
      "cell_type": "code",
      "metadata": {
        "id": "K02VMUi9uq6G",
        "colab_type": "code",
        "colab": {
          "base_uri": "https://localhost:8080/",
          "height": 35
        },
        "outputId": "9456af19-2efd-461f-8b9d-fb2645fab10b"
      },
      "source": [
        "df['month'].iloc[50000]"
      ],
      "execution_count": 145,
      "outputs": [
        {
          "output_type": "execute_result",
          "data": {
            "text/plain": [
              "6.0"
            ]
          },
          "metadata": {
            "tags": []
          },
          "execution_count": 145
        }
      ]
    },
    {
      "cell_type": "code",
      "metadata": {
        "id": "phZ43ICLvWNz",
        "colab_type": "code",
        "colab": {
          "base_uri": "https://localhost:8080/",
          "height": 206
        },
        "outputId": "6ff42f40-580b-44ef-b5d5-815ce2639715"
      },
      "source": [
        "df.tail()"
      ],
      "execution_count": 146,
      "outputs": [
        {
          "output_type": "execute_result",
          "data": {
            "text/html": [
              "<div>\n",
              "<style scoped>\n",
              "    .dataframe tbody tr th:only-of-type {\n",
              "        vertical-align: middle;\n",
              "    }\n",
              "\n",
              "    .dataframe tbody tr th {\n",
              "        vertical-align: top;\n",
              "    }\n",
              "\n",
              "    .dataframe thead th {\n",
              "        text-align: right;\n",
              "    }\n",
              "</style>\n",
              "<table border=\"1\" class=\"dataframe\">\n",
              "  <thead>\n",
              "    <tr style=\"text-align: right;\">\n",
              "      <th></th>\n",
              "      <th>time_ts</th>\n",
              "      <th>title</th>\n",
              "      <th>date</th>\n",
              "      <th>datetime</th>\n",
              "      <th>month</th>\n",
              "      <th>year</th>\n",
              "    </tr>\n",
              "  </thead>\n",
              "  <tbody>\n",
              "    <tr>\n",
              "      <th>1933810</th>\n",
              "      <td>2015-10-13 08:36:44+00:00</td>\n",
              "      <td>New gTLDs according to Registrants</td>\n",
              "      <td>2015-10-13</td>\n",
              "      <td>2015-10-13</td>\n",
              "      <td>10.0</td>\n",
              "      <td>2015.0</td>\n",
              "    </tr>\n",
              "    <tr>\n",
              "      <th>1933811</th>\n",
              "      <td>2015-10-13 08:39:14+00:00</td>\n",
              "      <td>The biggest risk we can take is to allow ourse...</td>\n",
              "      <td>2015-10-13</td>\n",
              "      <td>2015-10-13</td>\n",
              "      <td>10.0</td>\n",
              "      <td>2015.0</td>\n",
              "    </tr>\n",
              "    <tr>\n",
              "      <th>1933812</th>\n",
              "      <td>2015-10-13 08:41:02+00:00</td>\n",
              "      <td>How a Journalist and a Music Producer Built a ...</td>\n",
              "      <td>2015-10-13</td>\n",
              "      <td>2015-10-13</td>\n",
              "      <td>10.0</td>\n",
              "      <td>2015.0</td>\n",
              "    </tr>\n",
              "    <tr>\n",
              "      <th>1933813</th>\n",
              "      <td>2015-10-13 08:43:48+00:00</td>\n",
              "      <td>The gifts of the world’s most lethal animal</td>\n",
              "      <td>2015-10-13</td>\n",
              "      <td>2015-10-13</td>\n",
              "      <td>10.0</td>\n",
              "      <td>2015.0</td>\n",
              "    </tr>\n",
              "    <tr>\n",
              "      <th>1933814</th>\n",
              "      <td>2015-10-13 08:44:34+00:00</td>\n",
              "      <td>The Software Behind the Large Hadron Collider ...</td>\n",
              "      <td>2015-10-13</td>\n",
              "      <td>2015-10-13</td>\n",
              "      <td>10.0</td>\n",
              "      <td>2015.0</td>\n",
              "    </tr>\n",
              "  </tbody>\n",
              "</table>\n",
              "</div>"
            ],
            "text/plain": [
              "                          time_ts  ...    year\n",
              "1933810 2015-10-13 08:36:44+00:00  ...  2015.0\n",
              "1933811 2015-10-13 08:39:14+00:00  ...  2015.0\n",
              "1933812 2015-10-13 08:41:02+00:00  ...  2015.0\n",
              "1933813 2015-10-13 08:43:48+00:00  ...  2015.0\n",
              "1933814 2015-10-13 08:44:34+00:00  ...  2015.0\n",
              "\n",
              "[5 rows x 6 columns]"
            ]
          },
          "metadata": {
            "tags": []
          },
          "execution_count": 146
        }
      ]
    },
    {
      "cell_type": "markdown",
      "metadata": {
        "id": "ZFTtdOGKxX7M",
        "colab_type": "text"
      },
      "source": [
        "Drop the other date columns"
      ]
    },
    {
      "cell_type": "code",
      "metadata": {
        "id": "CeYpoJAZvm2N",
        "colab_type": "code",
        "colab": {
          "base_uri": "https://localhost:8080/",
          "height": 206
        },
        "outputId": "67054a26-5337-4dc5-c685-cf08ffd422df"
      },
      "source": [
        "df.drop(['date'], axis = 1, inplace= True)\n",
        "df.drop(['datetime'], axis = 1, inplace= True)\n",
        "df.drop(['time_ts'], axis = 1, inplace= True)\n",
        "\n",
        "df.head()"
      ],
      "execution_count": 147,
      "outputs": [
        {
          "output_type": "execute_result",
          "data": {
            "text/html": [
              "<div>\n",
              "<style scoped>\n",
              "    .dataframe tbody tr th:only-of-type {\n",
              "        vertical-align: middle;\n",
              "    }\n",
              "\n",
              "    .dataframe tbody tr th {\n",
              "        vertical-align: top;\n",
              "    }\n",
              "\n",
              "    .dataframe thead th {\n",
              "        text-align: right;\n",
              "    }\n",
              "</style>\n",
              "<table border=\"1\" class=\"dataframe\">\n",
              "  <thead>\n",
              "    <tr style=\"text-align: right;\">\n",
              "      <th></th>\n",
              "      <th>title</th>\n",
              "      <th>month</th>\n",
              "      <th>year</th>\n",
              "    </tr>\n",
              "  </thead>\n",
              "  <tbody>\n",
              "    <tr>\n",
              "      <th>0</th>\n",
              "      <td>None</td>\n",
              "      <td>NaN</td>\n",
              "      <td>NaN</td>\n",
              "    </tr>\n",
              "    <tr>\n",
              "      <th>1</th>\n",
              "      <td>Y Combinator</td>\n",
              "      <td>10.0</td>\n",
              "      <td>2006.0</td>\n",
              "    </tr>\n",
              "    <tr>\n",
              "      <th>2</th>\n",
              "      <td>A Student's Guide to Startups</td>\n",
              "      <td>10.0</td>\n",
              "      <td>2006.0</td>\n",
              "    </tr>\n",
              "    <tr>\n",
              "      <th>3</th>\n",
              "      <td>Woz Interview: the early days of Apple</td>\n",
              "      <td>10.0</td>\n",
              "      <td>2006.0</td>\n",
              "    </tr>\n",
              "    <tr>\n",
              "      <th>4</th>\n",
              "      <td>NYC Developer Dilemma</td>\n",
              "      <td>10.0</td>\n",
              "      <td>2006.0</td>\n",
              "    </tr>\n",
              "  </tbody>\n",
              "</table>\n",
              "</div>"
            ],
            "text/plain": [
              "                                    title  month    year\n",
              "0                                    None    NaN     NaN\n",
              "1                            Y Combinator   10.0  2006.0\n",
              "2           A Student's Guide to Startups   10.0  2006.0\n",
              "3  Woz Interview: the early days of Apple   10.0  2006.0\n",
              "4                   NYC Developer Dilemma   10.0  2006.0"
            ]
          },
          "metadata": {
            "tags": []
          },
          "execution_count": 147
        }
      ]
    },
    {
      "cell_type": "markdown",
      "metadata": {
        "id": "7L6zfKqZbYfX",
        "colab_type": "text"
      },
      "source": [
        "##Plot Data"
      ]
    },
    {
      "cell_type": "markdown",
      "metadata": {
        "id": "nDBe4XOi2TO2",
        "colab_type": "text"
      },
      "source": [
        "When were most of the articles published?"
      ]
    },
    {
      "cell_type": "code",
      "metadata": {
        "id": "H4GiX0toyY3p",
        "colab_type": "code",
        "colab": {
          "base_uri": "https://localhost:8080/",
          "height": 442
        },
        "outputId": "67b7248d-d67c-4406-b5f5-5445fd03f5fe"
      },
      "source": [
        "plt.hist(df['month']);\n",
        "plt.xlabel('month');\n",
        "plt.ylabel('number of articles');\n",
        "plt.title('Amount of total articles per month over all years');"
      ],
      "execution_count": 148,
      "outputs": [
        {
          "output_type": "stream",
          "text": [
            "/usr/local/lib/python3.6/dist-packages/numpy/lib/histograms.py:839: RuntimeWarning:\n",
            "\n",
            "invalid value encountered in greater_equal\n",
            "\n",
            "/usr/local/lib/python3.6/dist-packages/numpy/lib/histograms.py:840: RuntimeWarning:\n",
            "\n",
            "invalid value encountered in less_equal\n",
            "\n"
          ],
          "name": "stderr"
        },
        {
          "output_type": "display_data",
          "data": {
            "image/png": "[encoded data removed]",
            "text/plain": [
              "<Figure size 432x288 with 1 Axes>"
            ]
          },
          "metadata": {
            "tags": [],
            "needs_background": "light"
          }
        }
      ]
    },
    {
      "cell_type": "markdown",
      "metadata": {
        "id": "ErBlqAvx1SsQ",
        "colab_type": "text"
      },
      "source": [
        "Looks like most of the articles were written/published in January or December"
      ]
    },
    {
      "cell_type": "markdown",
      "metadata": {
        "id": "hoIrCe-GBiZ_",
        "colab_type": "text"
      },
      "source": [
        "What is the total amount of articles year per year?\n"
      ]
    },
    {
      "cell_type": "code",
      "metadata": {
        "id": "_Hm6VMtA75aG",
        "colab_type": "code",
        "colab": {
          "base_uri": "https://localhost:8080/",
          "height": 295
        },
        "outputId": "7e084f74-182a-416f-b4cc-a076b78189d7"
      },
      "source": [
        "plt.plot(df['year']);\n",
        "plt.xlabel('total articles');\n",
        "plt.ylabel('year');\n",
        "plt.title('Amount of total articles over all years');"
      ],
      "execution_count": 154,
      "outputs": [
        {
          "output_type": "display_data",
          "data": {
            "image/png": "[encoded data removed]",
            "text/plain": [
              "<Figure size 432x288 with 1 Axes>"
            ]
          },
          "metadata": {
            "tags": [],
            "needs_background": "light"
          }
        }
      ]
    },
    {
      "cell_type": "markdown",
      "metadata": {
        "id": "nMKDhs1xAfKW",
        "colab_type": "text"
      },
      "source": [
        "##Conclusion\n",
        "\n",
        "In our dataset:\n",
        "- There appears to be 210,368 unique authors.\n",
        "- There appears to be 1,751,155 articles.\n",
        "- There are 1,959,809 records.\n",
        "- 11,457 titles that start with 'D' and end with an 's'\n",
        "- 175,775 titles start with a 'T' OR a 'G'.\n",
        "- Data goes from October 9th, 2006 to October 13th, 2015."
      ]
    },
    {
      "cell_type": "code",
      "metadata": {
        "id": "c13Rk4KT9kwD",
        "colab_type": "code",
        "colab": {}
      },
      "source": [
        ""
      ],
      "execution_count": 149,
      "outputs": []
    }
  ]
}